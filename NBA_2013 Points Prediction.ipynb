{
 "cells": [
  {
   "cell_type": "markdown",
   "metadata": {},
   "source": [
    "## Importing Libraries"
   ]
  },
  {
   "cell_type": "code",
   "execution_count": 1,
   "metadata": {},
   "outputs": [],
   "source": [
    "import pandas as pd\r\n",
    "import numpy as np\r\n",
    "import seaborn as sns\r\n",
    "import matplotlib.pyplot as plt"
   ]
  },
  {
   "cell_type": "markdown",
   "metadata": {},
   "source": [
    "## Data"
   ]
  },
  {
   "cell_type": "code",
   "execution_count": 2,
   "metadata": {},
   "outputs": [
    {
     "data": {
      "text/html": "<div>\n<style scoped>\n    .dataframe tbody tr th:only-of-type {\n        vertical-align: middle;\n    }\n\n    .dataframe tbody tr th {\n        vertical-align: top;\n    }\n\n    .dataframe thead th {\n        text-align: right;\n    }\n</style>\n<table border=\"1\" class=\"dataframe\">\n  <thead>\n    <tr style=\"text-align: right;\">\n      <th></th>\n      <th>player</th>\n      <th>pos</th>\n      <th>age</th>\n      <th>bref_team_id</th>\n      <th>g</th>\n      <th>gs</th>\n      <th>mp</th>\n      <th>fg</th>\n      <th>fga</th>\n      <th>fg.</th>\n      <th>...</th>\n      <th>drb</th>\n      <th>trb</th>\n      <th>ast</th>\n      <th>stl</th>\n      <th>blk</th>\n      <th>tov</th>\n      <th>pf</th>\n      <th>pts</th>\n      <th>season</th>\n      <th>season_end</th>\n    </tr>\n  </thead>\n  <tbody>\n    <tr>\n      <th>0</th>\n      <td>Quincy Acy</td>\n      <td>SF</td>\n      <td>23</td>\n      <td>TOT</td>\n      <td>63</td>\n      <td>0</td>\n      <td>847</td>\n      <td>66</td>\n      <td>141</td>\n      <td>0.468</td>\n      <td>...</td>\n      <td>144</td>\n      <td>216</td>\n      <td>28</td>\n      <td>23</td>\n      <td>26</td>\n      <td>30</td>\n      <td>122</td>\n      <td>171</td>\n      <td>2013-2014</td>\n      <td>2013</td>\n    </tr>\n    <tr>\n      <th>1</th>\n      <td>Steven Adams</td>\n      <td>C</td>\n      <td>20</td>\n      <td>OKC</td>\n      <td>81</td>\n      <td>20</td>\n      <td>1197</td>\n      <td>93</td>\n      <td>185</td>\n      <td>0.503</td>\n      <td>...</td>\n      <td>190</td>\n      <td>332</td>\n      <td>43</td>\n      <td>40</td>\n      <td>57</td>\n      <td>71</td>\n      <td>203</td>\n      <td>265</td>\n      <td>2013-2014</td>\n      <td>2013</td>\n    </tr>\n    <tr>\n      <th>2</th>\n      <td>Jeff Adrien</td>\n      <td>PF</td>\n      <td>27</td>\n      <td>TOT</td>\n      <td>53</td>\n      <td>12</td>\n      <td>961</td>\n      <td>143</td>\n      <td>275</td>\n      <td>0.520</td>\n      <td>...</td>\n      <td>204</td>\n      <td>306</td>\n      <td>38</td>\n      <td>24</td>\n      <td>36</td>\n      <td>39</td>\n      <td>108</td>\n      <td>362</td>\n      <td>2013-2014</td>\n      <td>2013</td>\n    </tr>\n    <tr>\n      <th>3</th>\n      <td>Arron Afflalo</td>\n      <td>SG</td>\n      <td>28</td>\n      <td>ORL</td>\n      <td>73</td>\n      <td>73</td>\n      <td>2552</td>\n      <td>464</td>\n      <td>1011</td>\n      <td>0.459</td>\n      <td>...</td>\n      <td>230</td>\n      <td>262</td>\n      <td>248</td>\n      <td>35</td>\n      <td>3</td>\n      <td>146</td>\n      <td>136</td>\n      <td>1330</td>\n      <td>2013-2014</td>\n      <td>2013</td>\n    </tr>\n    <tr>\n      <th>4</th>\n      <td>Alexis Ajinca</td>\n      <td>C</td>\n      <td>25</td>\n      <td>NOP</td>\n      <td>56</td>\n      <td>30</td>\n      <td>951</td>\n      <td>136</td>\n      <td>249</td>\n      <td>0.546</td>\n      <td>...</td>\n      <td>183</td>\n      <td>277</td>\n      <td>40</td>\n      <td>23</td>\n      <td>46</td>\n      <td>63</td>\n      <td>187</td>\n      <td>328</td>\n      <td>2013-2014</td>\n      <td>2013</td>\n    </tr>\n  </tbody>\n</table>\n<p>5 rows × 31 columns</p>\n</div>",
      "text/plain": "          player pos  age bref_team_id   g  gs    mp   fg   fga    fg.  ...  \\\n0     Quincy Acy  SF   23          TOT  63   0   847   66   141  0.468  ...   \n1   Steven Adams   C   20          OKC  81  20  1197   93   185  0.503  ...   \n2    Jeff Adrien  PF   27          TOT  53  12   961  143   275  0.520  ...   \n3  Arron Afflalo  SG   28          ORL  73  73  2552  464  1011  0.459  ...   \n4  Alexis Ajinca   C   25          NOP  56  30   951  136   249  0.546  ...   \n\n   drb  trb  ast  stl  blk  tov   pf   pts     season  season_end  \n0  144  216   28   23   26   30  122   171  2013-2014        2013  \n1  190  332   43   40   57   71  203   265  2013-2014        2013  \n2  204  306   38   24   36   39  108   362  2013-2014        2013  \n3  230  262  248   35    3  146  136  1330  2013-2014        2013  \n4  183  277   40   23   46   63  187   328  2013-2014        2013  \n\n[5 rows x 31 columns]"
     },
     "execution_count": 2,
     "metadata": {},
     "output_type": "execute_result"
    }
   ],
   "source": [
    "df = pd.read_csv(\"D:/Work/Society For Health And Medical Technology/nba_2013.csv\")\r\n",
    "df.head()\r\n"
   ]
  },
  {
   "cell_type": "code",
   "execution_count": 3,
   "metadata": {},
   "outputs": [
    {
     "data": {
      "text/plain": "Index(['player', 'pos', 'age', 'bref_team_id', 'g', 'gs', 'mp', 'fg', 'fga',\n       'fg.', 'x3p', 'x3pa', 'x3p.', 'x2p', 'x2pa', 'x2p.', 'efg.', 'ft',\n       'fta', 'ft.', 'orb', 'drb', 'trb', 'ast', 'stl', 'blk', 'tov', 'pf',\n       'pts', 'season', 'season_end'],\n      dtype='object')"
     },
     "execution_count": 3,
     "metadata": {},
     "output_type": "execute_result"
    }
   ],
   "source": [
    "df.columns"
   ]
  },
  {
   "cell_type": "markdown",
   "metadata": {},
   "source": [
    "## Checking Null Values"
   ]
  },
  {
   "cell_type": "code",
   "execution_count": 4,
   "metadata": {},
   "outputs": [
    {
     "data": {
      "text/plain": "player           0\npos              0\nage              0\nbref_team_id     0\ng                0\ngs               0\nmp               0\nfg               0\nfga              0\nfg.              2\nx3p              0\nx3pa             0\nx3p.            67\nx2p              0\nx2pa             0\nx2p.             3\nefg.             2\nft               0\nfta              0\nft.             20\norb              0\ndrb              0\ntrb              0\nast              0\nstl              0\nblk              0\ntov              0\npf               0\npts              0\nseason           0\nseason_end       0\ndtype: int64"
     },
     "execution_count": 4,
     "metadata": {},
     "output_type": "execute_result"
    }
   ],
   "source": [
    "df.isnull().sum()"
   ]
  },
  {
   "cell_type": "markdown",
   "metadata": {},
   "source": [
    "## Replacing Null Values with Mean"
   ]
  },
  {
   "cell_type": "code",
   "execution_count": 5,
   "metadata": {},
   "outputs": [],
   "source": [
    "for col in df:\r\n",
    "    if df[col].isnull().any() == True:\r\n",
    "        df[col].fillna(df[col].mean(), inplace=True)\r\n"
   ]
  },
  {
   "cell_type": "code",
   "execution_count": 6,
   "metadata": {},
   "outputs": [
    {
     "data": {
      "text/plain": "player          0\npos             0\nage             0\nbref_team_id    0\ng               0\ngs              0\nmp              0\nfg              0\nfga             0\nfg.             0\nx3p             0\nx3pa            0\nx3p.            0\nx2p             0\nx2pa            0\nx2p.            0\nefg.            0\nft              0\nfta             0\nft.             0\norb             0\ndrb             0\ntrb             0\nast             0\nstl             0\nblk             0\ntov             0\npf              0\npts             0\nseason          0\nseason_end      0\ndtype: int64"
     },
     "execution_count": 6,
     "metadata": {},
     "output_type": "execute_result"
    }
   ],
   "source": [
    "df.isnull().sum()"
   ]
  },
  {
   "cell_type": "markdown",
   "metadata": {},
   "source": [
    "## Selecting Numeric and Categorical Columns"
   ]
  },
  {
   "cell_type": "code",
   "execution_count": 7,
   "metadata": {},
   "outputs": [],
   "source": [
    "category_col = []\r\n",
    "numeric_col = []\r\n",
    "for col in df:\r\n",
    "    if df[col].dtype != \"O\":\r\n",
    "        numeric_col.append(col)\r\n",
    "    else:\r\n",
    "        category_col.append(col)\r\n",
    "\r\n",
    "numeric_df = df[numeric_col]"
   ]
  },
  {
   "cell_type": "markdown",
   "metadata": {},
   "source": [
    "## Normalizing Numeric Columns"
   ]
  },
  {
   "cell_type": "code",
   "execution_count": 8,
   "metadata": {},
   "outputs": [],
   "source": [
    "df_normalized = numeric_df.apply(lambda x: (x - x.min()) / (x.max() - x.min()))\r\n"
   ]
  },
  {
   "cell_type": "code",
   "execution_count": 9,
   "metadata": {},
   "outputs": [],
   "source": [
    "df_category = df[['player', 'bref_team_id', 'season']]\r\n"
   ]
  },
  {
   "cell_type": "markdown",
   "metadata": {},
   "source": [
    "## Concating Numeric and Concating Columns"
   ]
  },
  {
   "cell_type": "code",
   "execution_count": 10,
   "metadata": {},
   "outputs": [],
   "source": [
    "final_df = pd.concat([df_category,df_normalized],axis=1)"
   ]
  },
  {
   "cell_type": "markdown",
   "metadata": {},
   "source": [
    "## Selecting Dependend and Independent Columns"
   ]
  },
  {
   "cell_type": "code",
   "execution_count": 11,
   "metadata": {},
   "outputs": [],
   "source": [
    "X = final_df.drop(columns=['player', 'bref_team_id','season', \"pts\", \"season_end\"])\r\n",
    "y = final_df[\"pts\"]\r\n",
    "\r\n"
   ]
  },
  {
   "cell_type": "markdown",
   "metadata": {},
   "source": [
    "## Split Into Train Test set"
   ]
  },
  {
   "cell_type": "code",
   "execution_count": 12,
   "metadata": {},
   "outputs": [],
   "source": [
    "from sklearn.model_selection import train_test_split\r\n",
    "\r\n",
    "X_train, X_test, y_train, y_test = train_test_split(X,y,test_size=0.15,random_state=0)"
   ]
  },
  {
   "cell_type": "markdown",
   "metadata": {},
   "source": [
    "## Checking Which Value Will Be Giving Highest Score"
   ]
  },
  {
   "cell_type": "code",
   "execution_count": 13,
   "metadata": {},
   "outputs": [
    {
     "name": "stdout",
     "output_type": "stream",
     "text": [
      "Regression score for 1 k_value is : 0.9317393903620022\n",
      "Regression score for 2 k_value is : 0.957721974848286\n",
      "Regression score for 3 k_value is : 0.963204226605198\n",
      "Regression score for 4 k_value is : 0.9638733750401692\n",
      "Regression score for 5 k_value is : 0.9632497237642577\n",
      "Regression score for 6 k_value is : 0.9629952220059651\n",
      "Regression score for 7 k_value is : 0.9603490791203279\n",
      "Regression score for 8 k_value is : 0.9586363144284761\n",
      "Regression score for 9 k_value is : 0.9641247642522749\n",
      "Regression score for 10 k_value is : 0.9606068045874263\n"
     ]
    }
   ],
   "source": [
    "from sklearn.neighbors import KNeighborsRegressor\r\n",
    "from sklearn import metrics\r\n",
    "\r\n",
    "for k in range(1,11):\r\n",
    "    knn = KNeighborsRegressor(n_neighbors= k)\r\n",
    "    knn.fit(X_train,y_train)\r\n",
    "    y_predict = knn.predict(X_test)\r\n",
    "    print(\"Regression score for {} k_value is : {}\".format(k, metrics.r2_score(y_test, y_predict)))\r\n"
   ]
  },
  {
   "cell_type": "markdown",
   "metadata": {},
   "source": [
    "## K=9 is Giving Highest Score"
   ]
  },
  {
   "cell_type": "code",
   "execution_count": 14,
   "metadata": {},
   "outputs": [
    {
     "name": "stdout",
     "output_type": "stream",
     "text": [
      "Mean Squared Error is: 0.001082942720195031\n",
      "Regression score is: 0.9641247642522749\n"
     ]
    }
   ],
   "source": [
    "knn = KNeighborsRegressor(n_neighbors=9)\r\n",
    "knn.fit(X_train, y_train)\r\n",
    "y_predict = knn.predict(X_test)\r\n",
    "print(\"Mean Squared Error is: {}\".format(metrics.mean_squared_error(y_test, y_predict)))\r\n",
    "print(\"Regression score is: {}\".format(metrics.r2_score(y_test, y_predict)))"
   ]
  },
  {
   "cell_type": "markdown",
   "metadata": {},
   "source": [
    "## Comparing Actual and Predicted Data "
   ]
  },
  {
   "cell_type": "code",
   "execution_count": 15,
   "metadata": {},
   "outputs": [
    {
     "data": {
      "text/html": "<div>\n<style scoped>\n    .dataframe tbody tr th:only-of-type {\n        vertical-align: middle;\n    }\n\n    .dataframe tbody tr th {\n        vertical-align: top;\n    }\n\n    .dataframe thead th {\n        text-align: right;\n    }\n</style>\n<table border=\"1\" class=\"dataframe\">\n  <thead>\n    <tr style=\"text-align: right;\">\n      <th></th>\n      <th>Actual Points</th>\n      <th>Predicted Points</th>\n    </tr>\n  </thead>\n  <tbody>\n    <tr>\n      <th>0</th>\n      <td>0.168145</td>\n      <td>0.122466</td>\n    </tr>\n    <tr>\n      <th>1</th>\n      <td>0.276514</td>\n      <td>0.296825</td>\n    </tr>\n    <tr>\n      <th>2</th>\n      <td>0.422676</td>\n      <td>0.361743</td>\n    </tr>\n    <tr>\n      <th>3</th>\n      <td>0.007327</td>\n      <td>0.011955</td>\n    </tr>\n    <tr>\n      <th>4</th>\n      <td>0.381026</td>\n      <td>0.360029</td>\n    </tr>\n    <tr>\n      <th>5</th>\n      <td>0.160432</td>\n      <td>0.155933</td>\n    </tr>\n    <tr>\n      <th>6</th>\n      <td>0.100656</td>\n      <td>0.106098</td>\n    </tr>\n    <tr>\n      <th>7</th>\n      <td>0.271115</td>\n      <td>0.262502</td>\n    </tr>\n    <tr>\n      <th>8</th>\n      <td>0.032009</td>\n      <td>0.031752</td>\n    </tr>\n    <tr>\n      <th>9</th>\n      <td>0.009641</td>\n      <td>0.012727</td>\n    </tr>\n    <tr>\n      <th>10</th>\n      <td>0.437331</td>\n      <td>0.422848</td>\n    </tr>\n    <tr>\n      <th>11</th>\n      <td>0.025453</td>\n      <td>0.026524</td>\n    </tr>\n    <tr>\n      <th>12</th>\n      <td>0.038180</td>\n      <td>0.028367</td>\n    </tr>\n    <tr>\n      <th>13</th>\n      <td>0.010027</td>\n      <td>0.017097</td>\n    </tr>\n    <tr>\n      <th>14</th>\n      <td>0.182029</td>\n      <td>0.151433</td>\n    </tr>\n    <tr>\n      <th>15</th>\n      <td>0.805631</td>\n      <td>0.695291</td>\n    </tr>\n    <tr>\n      <th>16</th>\n      <td>0.052449</td>\n      <td>0.054291</td>\n    </tr>\n    <tr>\n      <th>17</th>\n      <td>0.006170</td>\n      <td>0.010627</td>\n    </tr>\n    <tr>\n      <th>18</th>\n      <td>0.481681</td>\n      <td>0.487038</td>\n    </tr>\n    <tr>\n      <th>19</th>\n      <td>0.030081</td>\n      <td>0.039894</td>\n    </tr>\n    <tr>\n      <th>20</th>\n      <td>0.077902</td>\n      <td>0.083815</td>\n    </tr>\n    <tr>\n      <th>21</th>\n      <td>0.059005</td>\n      <td>0.054591</td>\n    </tr>\n    <tr>\n      <th>22</th>\n      <td>0.330120</td>\n      <td>0.362472</td>\n    </tr>\n    <tr>\n      <th>23</th>\n      <td>0.412649</td>\n      <td>0.433389</td>\n    </tr>\n    <tr>\n      <th>24</th>\n      <td>0.190899</td>\n      <td>0.249518</td>\n    </tr>\n    <tr>\n      <th>25</th>\n      <td>0.055148</td>\n      <td>0.047735</td>\n    </tr>\n    <tr>\n      <th>26</th>\n      <td>0.000000</td>\n      <td>0.001371</td>\n    </tr>\n    <tr>\n      <th>27</th>\n      <td>0.441188</td>\n      <td>0.339718</td>\n    </tr>\n    <tr>\n      <th>28</th>\n      <td>0.436174</td>\n      <td>0.444059</td>\n    </tr>\n    <tr>\n      <th>29</th>\n      <td>0.364057</td>\n      <td>0.303081</td>\n    </tr>\n    <tr>\n      <th>30</th>\n      <td>0.057462</td>\n      <td>0.040494</td>\n    </tr>\n    <tr>\n      <th>31</th>\n      <td>0.183957</td>\n      <td>0.174144</td>\n    </tr>\n    <tr>\n      <th>32</th>\n      <td>0.239877</td>\n      <td>0.234777</td>\n    </tr>\n    <tr>\n      <th>33</th>\n      <td>0.082144</td>\n      <td>0.146934</td>\n    </tr>\n    <tr>\n      <th>34</th>\n      <td>0.393752</td>\n      <td>0.382783</td>\n    </tr>\n    <tr>\n      <th>35</th>\n      <td>0.744312</td>\n      <td>0.607105</td>\n    </tr>\n    <tr>\n      <th>36</th>\n      <td>0.131508</td>\n      <td>0.127694</td>\n    </tr>\n    <tr>\n      <th>37</th>\n      <td>0.000000</td>\n      <td>0.001028</td>\n    </tr>\n    <tr>\n      <th>38</th>\n      <td>0.008484</td>\n      <td>0.019368</td>\n    </tr>\n    <tr>\n      <th>39</th>\n      <td>0.012341</td>\n      <td>0.025025</td>\n    </tr>\n    <tr>\n      <th>40</th>\n      <td>0.220594</td>\n      <td>0.262159</td>\n    </tr>\n    <tr>\n      <th>41</th>\n      <td>0.187042</td>\n      <td>0.144620</td>\n    </tr>\n    <tr>\n      <th>42</th>\n      <td>0.210567</td>\n      <td>0.207353</td>\n    </tr>\n    <tr>\n      <th>43</th>\n      <td>0.005785</td>\n      <td>0.008956</td>\n    </tr>\n    <tr>\n      <th>44</th>\n      <td>0.000771</td>\n      <td>0.008270</td>\n    </tr>\n    <tr>\n      <th>45</th>\n      <td>0.102198</td>\n      <td>0.146248</td>\n    </tr>\n    <tr>\n      <th>46</th>\n      <td>0.167759</td>\n      <td>0.162960</td>\n    </tr>\n    <tr>\n      <th>47</th>\n      <td>0.037408</td>\n      <td>0.038437</td>\n    </tr>\n    <tr>\n      <th>48</th>\n      <td>0.037794</td>\n      <td>0.047992</td>\n    </tr>\n    <tr>\n      <th>49</th>\n      <td>0.028153</td>\n      <td>0.020654</td>\n    </tr>\n  </tbody>\n</table>\n</div>",
      "text/plain": "    Actual Points  Predicted Points\n0        0.168145          0.122466\n1        0.276514          0.296825\n2        0.422676          0.361743\n3        0.007327          0.011955\n4        0.381026          0.360029\n5        0.160432          0.155933\n6        0.100656          0.106098\n7        0.271115          0.262502\n8        0.032009          0.031752\n9        0.009641          0.012727\n10       0.437331          0.422848\n11       0.025453          0.026524\n12       0.038180          0.028367\n13       0.010027          0.017097\n14       0.182029          0.151433\n15       0.805631          0.695291\n16       0.052449          0.054291\n17       0.006170          0.010627\n18       0.481681          0.487038\n19       0.030081          0.039894\n20       0.077902          0.083815\n21       0.059005          0.054591\n22       0.330120          0.362472\n23       0.412649          0.433389\n24       0.190899          0.249518\n25       0.055148          0.047735\n26       0.000000          0.001371\n27       0.441188          0.339718\n28       0.436174          0.444059\n29       0.364057          0.303081\n30       0.057462          0.040494\n31       0.183957          0.174144\n32       0.239877          0.234777\n33       0.082144          0.146934\n34       0.393752          0.382783\n35       0.744312          0.607105\n36       0.131508          0.127694\n37       0.000000          0.001028\n38       0.008484          0.019368\n39       0.012341          0.025025\n40       0.220594          0.262159\n41       0.187042          0.144620\n42       0.210567          0.207353\n43       0.005785          0.008956\n44       0.000771          0.008270\n45       0.102198          0.146248\n46       0.167759          0.162960\n47       0.037408          0.038437\n48       0.037794          0.047992\n49       0.028153          0.020654"
     },
     "execution_count": 15,
     "metadata": {},
     "output_type": "execute_result"
    }
   ],
   "source": [
    "prediction_comperession = pd.DataFrame({'Actual Points': y_test.tolist(), 'Predicted Points': y_predict.tolist()})\r\n",
    "prediction_comperession.head(50)"
   ]
  },
  {
   "cell_type": "code",
   "execution_count": null,
   "metadata": {},
   "outputs": [],
   "source": []
  }
 ],
 "metadata": {
  "kernelspec": {
   "display_name": "Python 3.8.1 64-bit",
   "name": "python381jvsc74a57bd04bf5ffbeb8bb60b501bd370f4f30f4e42d71afa6b8bb033ca8128ca692dcec38"
  },
  "language_info": {
   "codemirror_mode": {
    "name": "ipython",
    "version": 3
   },
   "file_extension": ".py",
   "mimetype": "text/x-python",
   "name": "python",
   "nbconvert_exporter": "python",
   "pygments_lexer": "ipython3",
   "version": "3.8.1"
  },
  "orig_nbformat": 2
 },
 "nbformat": 4,
 "nbformat_minor": 2
}